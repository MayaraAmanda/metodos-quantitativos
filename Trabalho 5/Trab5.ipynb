{
 "cells": [
  {
   "cell_type": "markdown",
   "metadata": {},
   "source": [
    "# Trabalho  - Métodos Quantitativos"
   ]
  },
  {
   "cell_type": "markdown",
   "metadata": {},
   "source": [
    "**Mayara Amanda da Silva¹**\n",
    "\n",
    "1 - Aluna do Mestrado em Ciência da Computação - UFJF"
   ]
  },
  {
   "cell_type": "markdown",
   "metadata": {},
   "source": [
    "#### Tarefa AAG05\n",
    "Desenvolver em Python um script que execute os seguintes passos:\n",
    "Desenvolva em Python exemplo tão completo quanto o exemplo “Revisão”:\n",
    "1. Escolher/Criar uma amostra bivariada para o exemplo\n",
    "2. Calcule o coeficiente de correlação e só vá para “3” caso a amostra bivariada tenha\n",
    "correlação forte (positiva ou negativa)\n",
    "3. Estimar parâmetros, verificar a qualidade, calcular os erros\n",
    "4. Calcular desvio padrão dos erros e dos parâmetros\n",
    "5. Calcular intervalo de confiança dos parâmetros para níveis de confiança de 90%, 95% e 99%\n",
    "6. Testar linearidade, independência de erros, erros normais, homocedasticidade (com gráficos)\n",
    "\n",
    "Abaixo serão declaradas as bibliotecas usadas nesse trabalho."
   ]
  },
  {
   "cell_type": "code",
   "execution_count": 167,
   "metadata": {},
   "outputs": [],
   "source": [
    "from __future__ import unicode_literals\n",
    "\n",
    "import numpy as np\n",
    "import pandas as pd\n",
    "import matplotlib.pyplot as plt\n",
    "import seaborn as sns\n",
    "import scipy as sp                                                         \n",
    "import scipy.stats as stats   \n",
    "import pylab\n",
    "import statsmodels.api as sm\n",
    "from matplotlib.lines import Line2D\n",
    "from math import sqrt\n",
    "from IPython.display import Image\n",
    "\n",
    "\n",
    "%matplotlib inline"
   ]
  },
  {
   "cell_type": "markdown",
   "metadata": {},
   "source": [
    "## 1. Escolha da amostra bivariada para o exemplo:\n",
    "Para o desenvolvimento desse trabalho, foram utilizados os dados de 30 pacientes incluindo suas informações referentes a altura e peso. Essa amostragem é aleatória e foi extraida de uma base de dados do DataSus, contendo registros de atendimentos dos pacientes atendidos pelo SUS no ano de 2015. A amostra está representada abaixo:"
   ]
  },
  {
   "cell_type": "code",
   "execution_count": 165,
   "metadata": {},
   "outputs": [
    {
     "data": {
      "text/html": [
       "<div>\n",
       "<style scoped>\n",
       "    .dataframe tbody tr th:only-of-type {\n",
       "        vertical-align: middle;\n",
       "    }\n",
       "\n",
       "    .dataframe tbody tr th {\n",
       "        vertical-align: top;\n",
       "    }\n",
       "\n",
       "    .dataframe thead th {\n",
       "        text-align: right;\n",
       "    }\n",
       "</style>\n",
       "<table border=\"1\" class=\"dataframe\">\n",
       "  <thead>\n",
       "    <tr style=\"text-align: right;\">\n",
       "      <th></th>\n",
       "      <th>DIA</th>\n",
       "      <th>ANO</th>\n",
       "      <th>MES</th>\n",
       "      <th>UBS</th>\n",
       "      <th>PROCEDIMENTO</th>\n",
       "      <th>PAC_CNS</th>\n",
       "      <th>SEXO</th>\n",
       "      <th>IDADE</th>\n",
       "      <th>PESO</th>\n",
       "      <th>ALTURA</th>\n",
       "    </tr>\n",
       "  </thead>\n",
       "  <tbody>\n",
       "    <tr>\n",
       "      <th>0</th>\n",
       "      <td>1</td>\n",
       "      <td>2015</td>\n",
       "      <td>10</td>\n",
       "      <td>Ubs Alto Da Riviera</td>\n",
       "      <td>Consulta Medica Em Atenção Basica</td>\n",
       "      <td>801440426089443</td>\n",
       "      <td>M</td>\n",
       "      <td>12</td>\n",
       "      <td>22</td>\n",
       "      <td>1.23</td>\n",
       "    </tr>\n",
       "    <tr>\n",
       "      <th>1</th>\n",
       "      <td>1</td>\n",
       "      <td>2015</td>\n",
       "      <td>10</td>\n",
       "      <td>Ubs Alto Da Riviera</td>\n",
       "      <td>Consulta P/ Acompanhamento De Crescimento E De...</td>\n",
       "      <td>801440433562388</td>\n",
       "      <td>F</td>\n",
       "      <td>14</td>\n",
       "      <td>28</td>\n",
       "      <td>1.59</td>\n",
       "    </tr>\n",
       "    <tr>\n",
       "      <th>2</th>\n",
       "      <td>1</td>\n",
       "      <td>2015</td>\n",
       "      <td>10</td>\n",
       "      <td>Ubs Alto Da Riviera</td>\n",
       "      <td>Consulta Medica Em Atenção Basica</td>\n",
       "      <td>898001401222864</td>\n",
       "      <td>F</td>\n",
       "      <td>15</td>\n",
       "      <td>43</td>\n",
       "      <td>1.56</td>\n",
       "    </tr>\n",
       "    <tr>\n",
       "      <th>3</th>\n",
       "      <td>1</td>\n",
       "      <td>2015</td>\n",
       "      <td>10</td>\n",
       "      <td>Ubs Alto Da Riviera</td>\n",
       "      <td>Consulta Medica Em Atenção Basica</td>\n",
       "      <td>801440405314359</td>\n",
       "      <td>M</td>\n",
       "      <td>15</td>\n",
       "      <td>53</td>\n",
       "      <td>1.67</td>\n",
       "    </tr>\n",
       "    <tr>\n",
       "      <th>4</th>\n",
       "      <td>1</td>\n",
       "      <td>2015</td>\n",
       "      <td>10</td>\n",
       "      <td>Ubs Alto Da Riviera</td>\n",
       "      <td>Afericao De Pressao Arterial</td>\n",
       "      <td>801440463497584</td>\n",
       "      <td>F</td>\n",
       "      <td>18</td>\n",
       "      <td>58</td>\n",
       "      <td>1.62</td>\n",
       "    </tr>\n",
       "  </tbody>\n",
       "</table>\n",
       "</div>"
      ],
      "text/plain": [
       "   DIA   ANO  MES                  UBS  \\\n",
       "0    1  2015   10  Ubs Alto Da Riviera   \n",
       "1    1  2015   10  Ubs Alto Da Riviera   \n",
       "2    1  2015   10  Ubs Alto Da Riviera   \n",
       "3    1  2015   10  Ubs Alto Da Riviera   \n",
       "4    1  2015   10  Ubs Alto Da Riviera   \n",
       "\n",
       "                                        PROCEDIMENTO          PAC_CNS SEXO  \\\n",
       "0                  Consulta Medica Em Atenção Basica  801440426089443    M   \n",
       "1  Consulta P/ Acompanhamento De Crescimento E De...  801440433562388    F   \n",
       "2                  Consulta Medica Em Atenção Basica  898001401222864    F   \n",
       "3                  Consulta Medica Em Atenção Basica  801440405314359    M   \n",
       "4                       Afericao De Pressao Arterial  801440463497584    F   \n",
       "\n",
       "   IDADE  PESO  ALTURA  \n",
       "0     12    22    1.23  \n",
       "1     14    28    1.59  \n",
       "2     15    43    1.56  \n",
       "3     15    53    1.67  \n",
       "4     18    58    1.62  "
      ]
     },
     "execution_count": 165,
     "metadata": {},
     "output_type": "execute_result"
    }
   ],
   "source": [
    "data = pd.read_csv('consultas.csv')\n",
    "\n",
    "data.shape[0]\n",
    "data.head()"
   ]
  },
  {
   "cell_type": "code",
   "execution_count": 4,
   "metadata": {},
   "outputs": [
    {
     "data": {
      "text/html": [
       "<div>\n",
       "<style scoped>\n",
       "    .dataframe tbody tr th:only-of-type {\n",
       "        vertical-align: middle;\n",
       "    }\n",
       "\n",
       "    .dataframe tbody tr th {\n",
       "        vertical-align: top;\n",
       "    }\n",
       "\n",
       "    .dataframe thead th {\n",
       "        text-align: right;\n",
       "    }\n",
       "</style>\n",
       "<table border=\"1\" class=\"dataframe\">\n",
       "  <thead>\n",
       "    <tr style=\"text-align: right;\">\n",
       "      <th></th>\n",
       "      <th>PESO</th>\n",
       "      <th>ALTURA</th>\n",
       "    </tr>\n",
       "  </thead>\n",
       "  <tbody>\n",
       "    <tr>\n",
       "      <th>0</th>\n",
       "      <td>22</td>\n",
       "      <td>1.23</td>\n",
       "    </tr>\n",
       "    <tr>\n",
       "      <th>1</th>\n",
       "      <td>28</td>\n",
       "      <td>1.59</td>\n",
       "    </tr>\n",
       "    <tr>\n",
       "      <th>2</th>\n",
       "      <td>43</td>\n",
       "      <td>1.56</td>\n",
       "    </tr>\n",
       "    <tr>\n",
       "      <th>3</th>\n",
       "      <td>53</td>\n",
       "      <td>1.67</td>\n",
       "    </tr>\n",
       "    <tr>\n",
       "      <th>4</th>\n",
       "      <td>58</td>\n",
       "      <td>1.62</td>\n",
       "    </tr>\n",
       "  </tbody>\n",
       "</table>\n",
       "</div>"
      ],
      "text/plain": [
       "   PESO  ALTURA\n",
       "0    22    1.23\n",
       "1    28    1.59\n",
       "2    43    1.56\n",
       "3    53    1.67\n",
       "4    58    1.62"
      ]
     },
     "execution_count": 4,
     "metadata": {},
     "output_type": "execute_result"
    }
   ],
   "source": [
    "del data['DIA']\n",
    "del data['ANO']\n",
    "del data['MES']\n",
    "del data['UBS']\n",
    "del data['PROCEDIMENTO']\n",
    "del data['PAC_CNS']\n",
    "del data['SEXO']\n",
    "del data['IDADE']\n",
    "\n",
    "\n",
    "data.head()"
   ]
  },
  {
   "cell_type": "markdown",
   "metadata": {},
   "source": [
    "## 2. Cálculo de coeficiente de correlação:\n",
    "\n",
    "Para validar a amostra, será calculado o coeficiente de correlação da mesma."
   ]
  },
  {
   "cell_type": "code",
   "execution_count": 5,
   "metadata": {},
   "outputs": [
    {
     "data": {
      "text/html": [
       "<div>\n",
       "<style scoped>\n",
       "    .dataframe tbody tr th:only-of-type {\n",
       "        vertical-align: middle;\n",
       "    }\n",
       "\n",
       "    .dataframe tbody tr th {\n",
       "        vertical-align: top;\n",
       "    }\n",
       "\n",
       "    .dataframe thead th {\n",
       "        text-align: right;\n",
       "    }\n",
       "</style>\n",
       "<table border=\"1\" class=\"dataframe\">\n",
       "  <thead>\n",
       "    <tr style=\"text-align: right;\">\n",
       "      <th></th>\n",
       "      <th>PESO</th>\n",
       "      <th>ALTURA</th>\n",
       "    </tr>\n",
       "  </thead>\n",
       "  <tbody>\n",
       "    <tr>\n",
       "      <th>PESO</th>\n",
       "      <td>1.000000</td>\n",
       "      <td>0.507717</td>\n",
       "    </tr>\n",
       "    <tr>\n",
       "      <th>ALTURA</th>\n",
       "      <td>0.507717</td>\n",
       "      <td>1.000000</td>\n",
       "    </tr>\n",
       "  </tbody>\n",
       "</table>\n",
       "</div>"
      ],
      "text/plain": [
       "            PESO    ALTURA\n",
       "PESO    1.000000  0.507717\n",
       "ALTURA  0.507717  1.000000"
      ]
     },
     "execution_count": 5,
     "metadata": {},
     "output_type": "execute_result"
    }
   ],
   "source": [
    "data.corr()"
   ]
  },
  {
   "cell_type": "markdown",
   "metadata": {},
   "source": [
    "### 2.1 Resultado coeficiente de correlação;\n",
    "\n",
    "O coeficiente de correlação da amostragem calculado é **0,5077**. Conforme tabela de correlação abaixo, consideramos o resultado moderado."
   ]
  },
  {
   "cell_type": "code",
   "execution_count": 92,
   "metadata": {},
   "outputs": [
    {
     "data": {
      "image/png": "[encoded data removed]",
      "text/plain": [
       "<IPython.core.display.Image object>"
      ]
     },
     "execution_count": 92,
     "metadata": {
      "image/png": {
       "height": 400,
       "width": 600
      }
     },
     "output_type": "execute_result"
    }
   ],
   "source": [
    "Image(filename=\"correlacao.png\", width=600, height=400)"
   ]
  },
  {
   "cell_type": "markdown",
   "metadata": {},
   "source": [
    "## 3. Estimar parâmetros, verificar a qualidade, calcular os erros\n",
    "\n",
    "### 3.1. Gráfico de dispersão\n",
    "Abaixo realizaremos o teste visual de dispersão da amostragem, por meio da geração do gráfico de dispersão das amostras."
   ]
  },
  {
   "cell_type": "code",
   "execution_count": 68,
   "metadata": {},
   "outputs": [
    {
     "data": {
      "text/plain": [
       "Text(0.5, 1.0, 'Gráfico de Dispersão entre altura e peso')"
      ]
     },
     "execution_count": 68,
     "metadata": {},
     "output_type": "execute_result"
    },
    {
     "data": {
      "image/png": "[encoded data removed]",
      "text/plain": [
       "<Figure size 432x288 with 1 Axes>"
      ]
     },
     "metadata": {
      "needs_background": "light"
     },
     "output_type": "display_data"
    }
   ],
   "source": [
    "plt.scatter(data['ALTURA'], data['PESO'])\n",
    "plt.xlabel('Altura')\n",
    "plt.ylabel('Peso')\n",
    "plt.title('Gráfico de Dispersão entre altura e peso')"
   ]
  },
  {
   "cell_type": "markdown",
   "metadata": {},
   "source": [
    "#### Para melhor visualização, faremos uma transformação logaritmica"
   ]
  },
  {
   "cell_type": "code",
   "execution_count": 80,
   "metadata": {},
   "outputs": [
    {
     "data": {
      "text/plain": [
       "Text(0.5, 1.0, 'Gráfico de Dispersão entre altura e peso com transformação logaritmica')"
      ]
     },
     "execution_count": 80,
     "metadata": {},
     "output_type": "execute_result"
    },
    {
     "data": {
      "image/png": "[encoded data removed]",
      "text/plain": [
       "<Figure size 432x288 with 1 Axes>"
      ]
     },
     "metadata": {
      "needs_background": "light"
     },
     "output_type": "display_data"
    }
   ],
   "source": [
    "plt.scatter(np.log(data['ALTURA']), np.log(data['PESO']))\n",
    "plt.xlabel('Altura')\n",
    "plt.ylabel('Peso')\n",
    "plt.title('Gráfico de Dispersão entre altura e peso com transformação logaritmica')"
   ]
  },
  {
   "cell_type": "markdown",
   "metadata": {},
   "source": [
    "A visualização gŕafica, sugere que há uma correlação positiva entre as variáveis, mas, moderada."
   ]
  },
  {
   "cell_type": "markdown",
   "metadata": {},
   "source": [
    "### 3.2. Estimativa de parâmetros"
   ]
  },
  {
   "cell_type": "code",
   "execution_count": 72,
   "metadata": {},
   "outputs": [],
   "source": [
    "x = data['PESO']\n",
    "y = data['ALTURA']\n",
    "n = len(x)\n",
    "\n",
    "xy = np.multiply(x,y)\n",
    "xx = np.multiply(x,x)\n",
    "yy = np.multiply(y,y)\n",
    "\n",
    "soma_y = sum(y) #soma y\n",
    "soma_x = sum(x) #soma x\n",
    "sum_x2 = (sum(x)**2) #soma x2\n",
    "sum_y2 = (sum(y)**2) #soma y2\n",
    "\n",
    "media_y = np.mean(y) #media y\n",
    "media_x = np.mean(x) #media x"
   ]
  },
  {
   "cell_type": "markdown",
   "metadata": {},
   "source": [
    "### 3.3. Verificação de qualidade\n",
    "\n",
    "Para verificarmos a qualidade, é necessário calcular os valores de $\\beta_0$ e $\\beta_1$ que compõem a equação:\n",
    "\n",
    "$\\hat{y} = \\beta_0 + \\beta_1xi$\n",
    "\n",
    "Onde:\n",
    "\n",
    "- $\\hat{y}$ é a variável aleatória\n",
    "- $x$ é variável independete\n",
    "- $\\beta_0$ interceptação\n",
    "- $\\beta_1$ coeficiente de inclinação"
   ]
  },
  {
   "cell_type": "markdown",
   "metadata": {},
   "source": [
    "\\begin{equation*}\n",
    "b_1 = \\frac{n \\sum_{}(xy) - \\overline{nxy} }{\\sum_{}(x^{2}) - n(\\overline{x})^{2}}\n",
    "\\end{equation*}\n"
   ]
  },
  {
   "cell_type": "markdown",
   "metadata": {},
   "source": [
    "\\begin{equation*}\n",
    "b_0 = \\overline{y} - b_1\\overline{x} \n",
    "\\end{equation*}\n",
    "\n",
    "#### Cálculo do b1\n",
    "O cálculo do b1 foi feito de acordo com a fórmula acima."
   ]
  },
  {
   "cell_type": "code",
   "execution_count": 17,
   "metadata": {},
   "outputs": [
    {
     "name": "stdout",
     "output_type": "stream",
     "text": [
      "0.0034778534923339674\n"
     ]
    }
   ],
   "source": [
    "b1 = float(sum(x)*sum(y)-(n*(sum(xy)))) / ((sum(x)**2) - n*sum(xx))\n",
    "print(b1)"
   ]
  },
  {
   "cell_type": "markdown",
   "metadata": {},
   "source": [
    "#### Cálculo do b0\n",
    "O cálculo do b0 foi feito de acordo com a fórmula acima."
   ]
  },
  {
   "cell_type": "code",
   "execution_count": 19,
   "metadata": {},
   "outputs": [
    {
     "name": "stdout",
     "output_type": "stream",
     "text": [
      "1.4188719477569514\n"
     ]
    }
   ],
   "source": [
    "b0 = (media_y)-(b1*media_x)\n",
    "print(b0)"
   ]
  },
  {
   "cell_type": "markdown",
   "metadata": {},
   "source": [
    "### 3.1. Verificação da qualidade do estimador\n",
    "Para verificar a qualidade do estimador, é necessário calcular os valores de SSE, SST, SSR e R². Abaixo será apresentado as fórmulas, juntamente com o cálculo dos valores.\n",
    "\n",
    "#### SSE\n",
    "\n",
    "Para calcular o valor do SSE, usaremos a seguinte fórmula:\n",
    "\n",
    "\\begin{equation*}\n",
    "SSE = \\sum y^2 - b_0\\sum y - b_1 \\sum xy\n",
    "\\end{equation*}"
   ]
  },
  {
   "cell_type": "code",
   "execution_count": 45,
   "metadata": {},
   "outputs": [
    {
     "name": "stdout",
     "output_type": "stream",
     "text": [
      "2474.8726659085746\n"
     ]
    }
   ],
   "source": [
    "sse = sum_y2 - b0*(sum_y) - b1*(sum(xy))\n",
    "print(\"\"sse)"
   ]
  },
  {
   "cell_type": "markdown",
   "metadata": {},
   "source": [
    "#### SST\n",
    "Para calcular o valor do SST, usaremos a seguinte fórmula:\n",
    "\n",
    "\\begin{equation*}\n",
    "SST = \\sum y^2 - n(\\overline{y})^2\n",
    "\\end{equation*}\n"
   ]
  },
  {
   "cell_type": "code",
   "execution_count": 57,
   "metadata": {},
   "outputs": [
    {
     "name": "stdout",
     "output_type": "stream",
     "text": [
      "2475.014666666667\n"
     ]
    }
   ],
   "source": [
    "sst = sum_y2 - n*(media_y)**2\n",
    "print(\"SST: \",sst)"
   ]
  },
  {
   "cell_type": "markdown",
   "metadata": {},
   "source": [
    "#### SSR\n",
    "\n",
    "Para calcular o valor do SSR, usaremos a seguinte fórmula:\n",
    "\n",
    "\\begin{equation*}\n",
    "SSR = SST - SSE\n",
    "\\end{equation*}\n"
   ]
  },
  {
   "cell_type": "code",
   "execution_count": 46,
   "metadata": {},
   "outputs": [
    {
     "name": "stdout",
     "output_type": "stream",
     "text": [
      "0.1420007580923084\n"
     ]
    }
   ],
   "source": [
    "ssr = sst-sse\n",
    "print(\"SSR: \", ssr)"
   ]
  },
  {
   "cell_type": "markdown",
   "metadata": {},
   "source": [
    "#### R$^2$\n",
    "\n",
    "Para calcular o valor do R$^2$, usaremos a seguinte fórmula:\n",
    "\n",
    "\\begin{equation*}\n",
    "R^2 = \\frac{SSR}{SST}\n",
    "\\end{equation*}\n"
   ]
  },
  {
   "cell_type": "code",
   "execution_count": 118,
   "metadata": {},
   "outputs": [
    {
     "name": "stdout",
     "output_type": "stream",
     "text": [
      "0.9999426262963187\n"
     ]
    }
   ],
   "source": [
    "r_2 = sse/sst\n",
    "\n",
    "print(r_2)"
   ]
  },
  {
   "cell_type": "markdown",
   "metadata": {},
   "source": [
    "O modelo acima explica **99%** da variação\n",
    "\n",
    "### 3.2. Cálculo dos erros\n",
    "\n",
    "\n",
    "Baseia-se em calcular a diferença entre o valor que foi previsto pelo modelo e o valor real."
   ]
  },
  {
   "cell_type": "markdown",
   "metadata": {},
   "source": [
    "\\begin{equation*}\n",
    "QME = \\frac{SSE}{n-2}\n",
    "\\end{equation*}"
   ]
  },
  {
   "cell_type": "code",
   "execution_count": 158,
   "metadata": {},
   "outputs": [
    {
     "data": {
      "text/plain": [
       "88.3883094967348"
      ]
     },
     "execution_count": 158,
     "metadata": {},
     "output_type": "execute_result"
    }
   ],
   "source": [
    "qme = sse/(n-2)\n",
    "qme"
   ]
  },
  {
   "cell_type": "markdown",
   "metadata": {},
   "source": [
    "#### Verificando resíduos"
   ]
  },
  {
   "cell_type": "code",
   "execution_count": 178,
   "metadata": {},
   "outputs": [
    {
     "name": "stdout",
     "output_type": "stream",
     "text": [
      "Média dos resíduos:  -0.30792825138555124\n"
     ]
    }
   ],
   "source": [
    "resultado_regressao = sm.OLS(x, y).fit()\n",
    "data['Residuos'] = resultado_regressao.resid\n",
    "\n",
    "\n",
    "print(\"Média dos resíduos: \",data.Residuos.mean())\n",
    "\n"
   ]
  },
  {
   "cell_type": "markdown",
   "metadata": {},
   "source": [
    "#### Resíduos da ALTURA"
   ]
  },
  {
   "cell_type": "code",
   "execution_count": 187,
   "metadata": {},
   "outputs": [
    {
     "data": {
      "text/plain": [
       "<matplotlib.axes._subplots.AxesSubplot at 0x7f5ef8a5ea58>"
      ]
     },
     "execution_count": 187,
     "metadata": {},
     "output_type": "execute_result"
    },
    {
     "data": {
      "image/png": "[encoded data removed]",
      "text/plain": [
       "<Figure size 720x360 with 1 Axes>"
      ]
     },
     "metadata": {
      "needs_background": "light"
     },
     "output_type": "display_data"
    }
   ],
   "source": [
    "ax = sns.scatterplot(x = data.ALTURA, y=data.Residuos)\n",
    "ax.figure.set_size_inches(10,5)\n",
    "ax.set_title('Resíduos x Variável Independente (ALTURA)')\n",
    "ax"
   ]
  },
  {
   "cell_type": "markdown",
   "metadata": {},
   "source": [
    "#### Resíduos do PESO"
   ]
  },
  {
   "cell_type": "code",
   "execution_count": 186,
   "metadata": {},
   "outputs": [
    {
     "data": {
      "text/plain": [
       "<matplotlib.axes._subplots.AxesSubplot at 0x7f5ef8adf860>"
      ]
     },
     "execution_count": 186,
     "metadata": {},
     "output_type": "execute_result"
    },
    {
     "data": {
      "image/png": "[encoded data removed]",
      "text/plain": [
       "<Figure size 720x360 with 1 Axes>"
      ]
     },
     "metadata": {
      "needs_background": "light"
     },
     "output_type": "display_data"
    }
   ],
   "source": [
    "ax = sns.scatterplot(x = data.PESO, y=data.Residuos)\n",
    "ax.figure.set_size_inches(10,5)\n",
    "ax.set_title('Resíduos x Variável Independente (Peso)')\n",
    "ax"
   ]
  },
  {
   "cell_type": "markdown",
   "metadata": {},
   "source": [
    "## 4. Cálculo do desvio padrão dos erros e dos parâmetros:\n",
    "\n",
    "### 4.1. Desvio padrão do erro\n",
    "\n",
    "Para calcular o desvio padrão do QME, usaremos a seguinte fórmula:\n",
    "\n",
    "\\begin{equation*}\n",
    "DP = \\sqrt[]{QME}\n",
    "\\end{equation*}\n"
   ]
  },
  {
   "cell_type": "code",
   "execution_count": 163,
   "metadata": {},
   "outputs": [
    {
     "name": "stdout",
     "output_type": "stream",
     "text": [
      "Desvio padrão do erro 44.1941547483674\n"
     ]
    }
   ],
   "source": [
    "dp = qme ** 1/2\n",
    "print(\"Desvio padrão do erro\",dp)"
   ]
  },
  {
   "cell_type": "markdown",
   "metadata": {},
   "source": [
    "### 4.2. Desvio padrão dos parâmetros:\n",
    "Para calcular o desvio padrão do parâmetros, usaremos a função da biblioteca numpy"
   ]
  },
  {
   "cell_type": "code",
   "execution_count": 185,
   "metadata": {},
   "outputs": [
    {
     "name": "stdout",
     "output_type": "stream",
     "text": [
      "Desvio padrão do parâmetro 1:  19.782146833277054\n",
      "Desvio padrão do parâmetro 2:  0.13550727737735055\n"
     ]
    }
   ],
   "source": [
    "desvio_padrao1 = np.std(x)\n",
    "desvio_padrao2 = np.std(y)\n",
    "\n",
    "print(\"Desvio padrão do parâmetro 1: \", desvio_padrao1)\n",
    "print(\"Desvio padrão do parâmetro 2: \", desvio_padrao2)"
   ]
  },
  {
   "cell_type": "markdown",
   "metadata": {},
   "source": [
    "##  5. Cálculo do intervalo de confiança dos parâmetros:\n",
    "Um intervalo de confiança (IC) é um intervalo estimado de um parâmetro de interesse de uma população. Em vez de estimar o parâmetro por um único valor, é dado um intervalo de estimativas prováveis. O quanto estas estimativas são prováveis será determinado pelo coeficiente de confiança $ (1-\\alpha) $, para $ \\alpha \\in (0, 1) $.\n",
    "\n",
    "Intervalos de confiança são usados para indicar a confiabilidade de uma estimativa. Por exemplo, um IC pode ser usado para descrever o quanto os resultados de uma pesquisa são confiáveis. Sendo todas as estimativas iguais, uma pesquisa que resulte num IC pequeno é mais confiável do que uma que resulte num IC maior\n",
    "\n",
    "\n",
    "Para os dois parâmetros utilizados nesse exemplo de caso, usaremos a média já calculada anteriormente e o intervalo de confiança:"
   ]
  },
  {
   "cell_type": "markdown",
   "metadata": {},
   "source": [
    "### 5.1. Cálculo dos intervalos de confiança do parâmetro 1.\n",
    "Cálculo do intervalo de confiança do parâmetro 1 para os níveis de confiança em 90,95 e 99% respectivamente conforme abaixo: \n"
   ]
  },
  {
   "cell_type": "code",
   "execution_count": 69,
   "metadata": {},
   "outputs": [
    {
     "name": "stdout",
     "output_type": "stream",
     "text": [
      "Intervalo de Confiança do PESO, para o nível de confiança a 90%: \n",
      "(44.461264032397644, 109.53873596760235)\n",
      "---------------------------------------------------------------------------------------------------------\n",
      "Intervalo de Confiança do PESO, para o nível de confiança a 95%: \n",
      "(38.227704669893896, 115.7722953301061)\n",
      "---------------------------------------------------------------------------------------------------------\n",
      "Intervalo de Confiança do PESO, para o nível de confiança a 99%: \n",
      "(26.044566499737883, 127.95543350026212)\n"
     ]
    }
   ],
   "source": [
    "conf_int = scipy.stats.norm.interval(0.90, loc=media_x, scale=desvio_padrao1) \n",
    "print(\"Intervalo de Confiança do PESO, para o nível de confiança a 90%: \")\n",
    "print(conf_int)\n",
    "print(\"---------------------------------------------------------------------------------------------------------\")\n",
    "\n",
    "conf_int = scipy.stats.norm.interval(0.95, loc=media_x, scale=desvio_padrao1) \n",
    "print(\"Intervalo de Confiança do PESO, para o nível de confiança a 95%: \")\n",
    "print(conf_int)\n",
    "print(\"---------------------------------------------------------------------------------------------------------\")\n",
    "                                       \n",
    "conf_int = scipy.stats.norm.interval(0.99, loc=media_x, scale=desvio_padrao1) \n",
    "print(\"Intervalo de Confiança do PESO, para o nível de confiança a 99%: \")\n",
    "print(conf_int)\n"
   ]
  },
  {
   "cell_type": "markdown",
   "metadata": {},
   "source": [
    "### 5.2. Cálculo dos intervalos de confiança do parâmetro 2.\n",
    "Cálculo do intervalo de confiança do parâmetro 2 para os níveis de confiança em 90,95 e 99% respectivamente conforme abaixo:"
   ]
  },
  {
   "cell_type": "code",
   "execution_count": 71,
   "metadata": {},
   "outputs": [
    {
     "name": "stdout",
     "output_type": "stream",
     "text": [
      "Intervalo de Confiança da ALTURA, para o nível de confiança a 90%: \n",
      "(1.4637770299942123, 1.909556303339121)\n",
      "---------------------------------------------------------------------------------------------------------\n",
      "Intervalo de Confiança da ALTURA, para o nível de confiança a 95%: \n",
      "(1.4210772833639804, 1.952256049969353)\n",
      "---------------------------------------------------------------------------------------------------------\n",
      "Intervalo de Confiança da ALTURA, para o nível de confiança a 99%: \n",
      "(1.3376230507539582, 2.0357102825793754)\n"
     ]
    }
   ],
   "source": [
    "\n",
    "conf_int = scipy.stats.norm.interval(0.90, loc=media_y, scale=desvio_padrao2) \n",
    "print(\"Intervalo de Confiança da ALTURA, para o nível de confiança a 90%: \")\n",
    "print(conf_int)\n",
    "print(\"---------------------------------------------------------------------------------------------------------\")\n",
    "\n",
    "conf_int = scipy.stats.norm.interval(0.95, loc=media_y, scale=desvio_padrao2) \n",
    "print(\"Intervalo de Confiança da ALTURA, para o nível de confiança a 95%: \")\n",
    "print(conf_int)\n",
    "print(\"---------------------------------------------------------------------------------------------------------\")\n",
    "                                        \n",
    "conf_int = scipy.stats.norm.interval(0.99, loc=media_y, scale=desvio_padrao2) \n",
    "print(\"Intervalo de Confiança da ALTURA, para o nível de confiança a 99%: \")\n",
    "print(conf_int)\n"
   ]
  },
  {
   "cell_type": "markdown",
   "metadata": {},
   "source": [
    "##  6. Testes Visuais\n",
    "\n",
    "### 6.1. Teste de linearidade"
   ]
  },
  {
   "cell_type": "code",
   "execution_count": 164,
   "metadata": {},
   "outputs": [
    {
     "name": "stdout",
     "output_type": "stream",
     "text": [
      "Interceptação do eixo y no eixo x:  [1.41887195]\n"
     ]
    }
   ],
   "source": [
    "xregr = np.array(x).reshape(-1,1)\n",
    "yregr = np.array(y).reshape(-1,1)\n",
    "\n",
    "ln = LinearRegression()\n",
    "ln.fit(xregr,yregr)\n",
    "\n",
    "print(\"Interceptação do eixo y no eixo x: \", ln.intercept_)"
   ]
  },
  {
   "cell_type": "code",
   "execution_count": 128,
   "metadata": {},
   "outputs": [
    {
     "data": {
      "text/plain": [
       "Text(0.5, 1.0, 'Teste visual de linearidade')"
      ]
     },
     "execution_count": 128,
     "metadata": {},
     "output_type": "execute_result"
    },
    {
     "data": {
      "image/png": "[encoded data removed]",
      "text/plain": [
       "<Figure size 432x288 with 1 Axes>"
      ]
     },
     "metadata": {
      "needs_background": "light"
     },
     "output_type": "display_data"
    }
   ],
   "source": [
    "plt.scatter(xregr,yregr)\n",
    "plt.plot(xregr, model.predict(xregr),color = 'red')\n",
    "plt.xlabel('Altura')\n",
    "plt.ylabel('Peso')\n",
    "plt.title('Teste visual de linearidade')"
   ]
  },
  {
   "cell_type": "code",
   "execution_count": null,
   "metadata": {},
   "outputs": [],
   "source": []
  },
  {
   "cell_type": "markdown",
   "metadata": {},
   "source": [
    "### 6.2. Teste de independência dos erros"
   ]
  },
  {
   "cell_type": "markdown",
   "metadata": {},
   "source": [
    "### 6.3. Teste de erros normais"
   ]
  },
  {
   "cell_type": "markdown",
   "metadata": {},
   "source": [
    "### 6.4. Teste de homocedasticidade\n",
    "Homocedasticidade: termo usado para designar variância constante dos erros experimentais para observações distintas."
   ]
  },
  {
   "cell_type": "code",
   "execution_count": 190,
   "metadata": {},
   "outputs": [
    {
     "data": {
      "text/plain": [
       "<matplotlib.axes._subplots.AxesSubplot at 0x7f5ef89426d8>"
      ]
     },
     "execution_count": 190,
     "metadata": {},
     "output_type": "execute_result"
    },
    {
     "data": {
      "image/png": "[encoded data removed]",
      "text/plain": [
       "<Figure size 432x288 with 1 Axes>"
      ]
     },
     "metadata": {
      "needs_background": "light"
     },
     "output_type": "display_data"
    }
   ],
   "source": [
    "sns.residplot(x, y, lowess=True, color=\"g\")"
   ]
  },
  {
   "cell_type": "code",
   "execution_count": null,
   "metadata": {},
   "outputs": [],
   "source": []
  }
 ],
 "metadata": {
  "kernelspec": {
   "display_name": "Python 3",
   "language": "python",
   "name": "python3"
  },
  "language_info": {
   "codemirror_mode": {
    "name": "ipython",
    "version": 3
   },
   "file_extension": ".py",
   "mimetype": "text/x-python",
   "name": "python",
   "nbconvert_exporter": "python",
   "pygments_lexer": "ipython3",
   "version": "3.7.3"
  }
 },
 "nbformat": 4,
 "nbformat_minor": 2
}
